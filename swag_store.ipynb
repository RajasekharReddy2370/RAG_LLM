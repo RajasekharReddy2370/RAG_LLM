{
 "cells": [
  {
   "cell_type": "code",
   "execution_count": 1,
   "metadata": {},
   "outputs": [],
   "source": [
    "from chromadb.config import Settings\n",
    "from chromadb import Client\n",
    "from langchain.document_loaders import JSONLoader\n",
    "from langchain_text_splitters import RecursiveCharacterTextSplitter\n",
    "from langchain_huggingface import HuggingFaceEmbeddings\n",
    "from langchain.vectorstores import Chroma\n"
   ]
  },
  {
   "cell_type": "code",
   "execution_count": 2,
   "metadata": {},
   "outputs": [],
   "source": [
    "# client = Client(Settings(\n",
    "#     persist_directory=\"/Users/c360/Documents/chroma_db\",  # Adjust to your storage path\n",
    "#     # chroma_db_impl=\"duckdb+parquet\",\n",
    "# ))\n"
   ]
  },
  {
   "cell_type": "code",
   "execution_count": 3,
   "metadata": {},
   "outputs": [],
   "source": [
    "\n",
    "swagger_file = \"/Users/c360/Desktop/openapi.json\"\n",
    "loader = JSONLoader(\n",
    "    file_path=swagger_file,\n",
    "    jq_schema='.paths | to_entries[] | {endpoint: .key, methods: .value | to_entries[] | {method: .key, details: .value}}',\n",
    "    text_content=False\n",
    ")"
   ]
  },
  {
   "cell_type": "code",
   "execution_count": 4,
   "metadata": {},
   "outputs": [],
   "source": [
    "docs = loader.load()\n"
   ]
  },
  {
   "cell_type": "code",
   "execution_count": 5,
   "metadata": {},
   "outputs": [
    {
     "data": {
      "text/plain": [
       "[Document(metadata={'source': '/Users/c360/Desktop/openapi.json', 'seq_num': 1}, page_content='{\"endpoint\": \"/pet\", \"methods\": {\"method\": \"put\", \"details\": {\"tags\": [\"pet\"], \"summary\": \"Update an existing pet\", \"description\": \"Update an existing pet by Id\", \"operationId\": \"updatePet\", \"requestBody\": {\"description\": \"Update an existent pet in the store\", \"content\": {\"application/json\": {\"schema\": {\"$ref\": \"#/components/schemas/Pet\"}}, \"application/xml\": {\"schema\": {\"$ref\": \"#/components/schemas/Pet\"}}, \"application/x-www-form-urlencoded\": {\"schema\": {\"$ref\": \"#/components/schemas/Pet\"}}}, \"required\": true}, \"responses\": {\"200\": {\"description\": \"Successful operation\", \"content\": {\"application/json\": {\"schema\": {\"$ref\": \"#/components/schemas/Pet\"}}, \"application/xml\": {\"schema\": {\"$ref\": \"#/components/schemas/Pet\"}}}}, \"400\": {\"description\": \"Invalid ID supplied\"}, \"404\": {\"description\": \"Pet not found\"}, \"422\": {\"description\": \"Validation exception\"}}, \"security\": [{\"petstore_auth\": [\"write:pets\", \"read:pets\"]}]}}}'),\n",
       " Document(metadata={'source': '/Users/c360/Desktop/openapi.json', 'seq_num': 2}, page_content='{\"endpoint\": \"/pet\", \"methods\": {\"method\": \"post\", \"details\": {\"tags\": [\"pet\"], \"summary\": \"Add a new pet to the store\", \"description\": \"Add a new pet to the store\", \"operationId\": \"addPet\", \"requestBody\": {\"description\": \"Create a new pet in the store\", \"content\": {\"application/json\": {\"schema\": {\"$ref\": \"#/components/schemas/Pet\"}}, \"application/xml\": {\"schema\": {\"$ref\": \"#/components/schemas/Pet\"}}, \"application/x-www-form-urlencoded\": {\"schema\": {\"$ref\": \"#/components/schemas/Pet\"}}}, \"required\": true}, \"responses\": {\"200\": {\"description\": \"Successful operation\", \"content\": {\"application/json\": {\"schema\": {\"$ref\": \"#/components/schemas/Pet\"}}, \"application/xml\": {\"schema\": {\"$ref\": \"#/components/schemas/Pet\"}}}}, \"400\": {\"description\": \"Invalid input\"}, \"422\": {\"description\": \"Validation exception\"}}, \"security\": [{\"petstore_auth\": [\"write:pets\", \"read:pets\"]}]}}}'),\n",
       " Document(metadata={'source': '/Users/c360/Desktop/openapi.json', 'seq_num': 3}, page_content='{\"endpoint\": \"/pet/findByStatus\", \"methods\": {\"method\": \"get\", \"details\": {\"tags\": [\"pet\"], \"summary\": \"Finds Pets by status\", \"description\": \"Multiple status values can be provided with comma separated strings\", \"operationId\": \"findPetsByStatus\", \"parameters\": [{\"name\": \"status\", \"in\": \"query\", \"description\": \"Status values that need to be considered for filter\", \"required\": false, \"explode\": true, \"schema\": {\"type\": \"string\", \"default\": \"available\", \"enum\": [\"available\", \"pending\", \"sold\"]}}], \"responses\": {\"200\": {\"description\": \"successful operation\", \"content\": {\"application/json\": {\"schema\": {\"type\": \"array\", \"items\": {\"$ref\": \"#/components/schemas/Pet\"}}}, \"application/xml\": {\"schema\": {\"type\": \"array\", \"items\": {\"$ref\": \"#/components/schemas/Pet\"}}}}}, \"400\": {\"description\": \"Invalid status value\"}}, \"security\": [{\"petstore_auth\": [\"write:pets\", \"read:pets\"]}]}}}'),\n",
       " Document(metadata={'source': '/Users/c360/Desktop/openapi.json', 'seq_num': 4}, page_content='{\"endpoint\": \"/pet/findByTags\", \"methods\": {\"method\": \"get\", \"details\": {\"tags\": [\"pet\"], \"summary\": \"Finds Pets by tags\", \"description\": \"Multiple tags can be provided with comma separated strings. Use tag1, tag2, tag3 for testing.\", \"operationId\": \"findPetsByTags\", \"parameters\": [{\"name\": \"tags\", \"in\": \"query\", \"description\": \"Tags to filter by\", \"required\": false, \"explode\": true, \"schema\": {\"type\": \"array\", \"items\": {\"type\": \"string\"}}}], \"responses\": {\"200\": {\"description\": \"successful operation\", \"content\": {\"application/json\": {\"schema\": {\"type\": \"array\", \"items\": {\"$ref\": \"#/components/schemas/Pet\"}}}, \"application/xml\": {\"schema\": {\"type\": \"array\", \"items\": {\"$ref\": \"#/components/schemas/Pet\"}}}}}, \"400\": {\"description\": \"Invalid tag value\"}}, \"security\": [{\"petstore_auth\": [\"write:pets\", \"read:pets\"]}]}}}'),\n",
       " Document(metadata={'source': '/Users/c360/Desktop/openapi.json', 'seq_num': 5}, page_content='{\"endpoint\": \"/pet/{petId}\", \"methods\": {\"method\": \"get\", \"details\": {\"tags\": [\"pet\"], \"summary\": \"Find pet by ID\", \"description\": \"Returns a single pet\", \"operationId\": \"getPetById\", \"parameters\": [{\"name\": \"petId\", \"in\": \"path\", \"description\": \"ID of pet to return\", \"required\": true, \"schema\": {\"type\": \"integer\", \"format\": \"int64\"}}], \"responses\": {\"200\": {\"description\": \"successful operation\", \"content\": {\"application/json\": {\"schema\": {\"$ref\": \"#/components/schemas/Pet\"}}, \"application/xml\": {\"schema\": {\"$ref\": \"#/components/schemas/Pet\"}}}}, \"400\": {\"description\": \"Invalid ID supplied\"}, \"404\": {\"description\": \"Pet not found\"}}, \"security\": [{\"api_key\": []}, {\"petstore_auth\": [\"write:pets\", \"read:pets\"]}]}}}'),\n",
       " Document(metadata={'source': '/Users/c360/Desktop/openapi.json', 'seq_num': 6}, page_content='{\"endpoint\": \"/pet/{petId}\", \"methods\": {\"method\": \"post\", \"details\": {\"tags\": [\"pet\"], \"summary\": \"Updates a pet in the store with form data\", \"description\": \"\", \"operationId\": \"updatePetWithForm\", \"parameters\": [{\"name\": \"petId\", \"in\": \"path\", \"description\": \"ID of pet that needs to be updated\", \"required\": true, \"schema\": {\"type\": \"integer\", \"format\": \"int64\"}}, {\"name\": \"name\", \"in\": \"query\", \"description\": \"Name of pet that needs to be updated\", \"schema\": {\"type\": \"string\"}}, {\"name\": \"status\", \"in\": \"query\", \"description\": \"Status of pet that needs to be updated\", \"schema\": {\"type\": \"string\"}}], \"responses\": {\"400\": {\"description\": \"Invalid input\"}}, \"security\": [{\"petstore_auth\": [\"write:pets\", \"read:pets\"]}]}}}'),\n",
       " Document(metadata={'source': '/Users/c360/Desktop/openapi.json', 'seq_num': 7}, page_content='{\"endpoint\": \"/pet/{petId}\", \"methods\": {\"method\": \"delete\", \"details\": {\"tags\": [\"pet\"], \"summary\": \"Deletes a pet\", \"description\": \"delete a pet\", \"operationId\": \"deletePet\", \"parameters\": [{\"name\": \"api_key\", \"in\": \"header\", \"description\": \"\", \"required\": false, \"schema\": {\"type\": \"string\"}}, {\"name\": \"petId\", \"in\": \"path\", \"description\": \"Pet id to delete\", \"required\": true, \"schema\": {\"type\": \"integer\", \"format\": \"int64\"}}], \"responses\": {\"400\": {\"description\": \"Invalid pet value\"}}, \"security\": [{\"petstore_auth\": [\"write:pets\", \"read:pets\"]}]}}}'),\n",
       " Document(metadata={'source': '/Users/c360/Desktop/openapi.json', 'seq_num': 8}, page_content='{\"endpoint\": \"/pet/{petId}/uploadImage\", \"methods\": {\"method\": \"post\", \"details\": {\"tags\": [\"pet\"], \"summary\": \"uploads an image\", \"description\": \"\", \"operationId\": \"uploadFile\", \"parameters\": [{\"name\": \"petId\", \"in\": \"path\", \"description\": \"ID of pet to update\", \"required\": true, \"schema\": {\"type\": \"integer\", \"format\": \"int64\"}}, {\"name\": \"additionalMetadata\", \"in\": \"query\", \"description\": \"Additional Metadata\", \"required\": false, \"schema\": {\"type\": \"string\"}}], \"requestBody\": {\"content\": {\"application/octet-stream\": {\"schema\": {\"type\": \"string\", \"format\": \"binary\"}}}}, \"responses\": {\"200\": {\"description\": \"successful operation\", \"content\": {\"application/json\": {\"schema\": {\"$ref\": \"#/components/schemas/ApiResponse\"}}}}}, \"security\": [{\"petstore_auth\": [\"write:pets\", \"read:pets\"]}]}}}'),\n",
       " Document(metadata={'source': '/Users/c360/Desktop/openapi.json', 'seq_num': 9}, page_content='{\"endpoint\": \"/store/inventory\", \"methods\": {\"method\": \"get\", \"details\": {\"tags\": [\"store\"], \"summary\": \"Returns pet inventories by status\", \"description\": \"Returns a map of status codes to quantities\", \"operationId\": \"getInventory\", \"responses\": {\"200\": {\"description\": \"successful operation\", \"content\": {\"application/json\": {\"schema\": {\"type\": \"object\", \"additionalProperties\": {\"type\": \"integer\", \"format\": \"int32\"}}}}}}, \"security\": [{\"api_key\": []}]}}}'),\n",
       " Document(metadata={'source': '/Users/c360/Desktop/openapi.json', 'seq_num': 10}, page_content='{\"endpoint\": \"/store/order\", \"methods\": {\"method\": \"post\", \"details\": {\"tags\": [\"store\"], \"summary\": \"Place an order for a pet\", \"description\": \"Place a new order in the store\", \"operationId\": \"placeOrder\", \"requestBody\": {\"content\": {\"application/json\": {\"schema\": {\"$ref\": \"#/components/schemas/Order\"}}, \"application/xml\": {\"schema\": {\"$ref\": \"#/components/schemas/Order\"}}, \"application/x-www-form-urlencoded\": {\"schema\": {\"$ref\": \"#/components/schemas/Order\"}}}}, \"responses\": {\"200\": {\"description\": \"successful operation\", \"content\": {\"application/json\": {\"schema\": {\"$ref\": \"#/components/schemas/Order\"}}}}, \"400\": {\"description\": \"Invalid input\"}, \"422\": {\"description\": \"Validation exception\"}}}}}'),\n",
       " Document(metadata={'source': '/Users/c360/Desktop/openapi.json', 'seq_num': 11}, page_content='{\"endpoint\": \"/store/order/{orderId}\", \"methods\": {\"method\": \"get\", \"details\": {\"tags\": [\"store\"], \"summary\": \"Find purchase order by ID\", \"description\": \"For valid response try integer IDs with value <= 5 or > 10. Other values will generate exceptions.\", \"operationId\": \"getOrderById\", \"parameters\": [{\"name\": \"orderId\", \"in\": \"path\", \"description\": \"ID of order that needs to be fetched\", \"required\": true, \"schema\": {\"type\": \"integer\", \"format\": \"int64\"}}], \"responses\": {\"200\": {\"description\": \"successful operation\", \"content\": {\"application/json\": {\"schema\": {\"$ref\": \"#/components/schemas/Order\"}}, \"application/xml\": {\"schema\": {\"$ref\": \"#/components/schemas/Order\"}}}}, \"400\": {\"description\": \"Invalid ID supplied\"}, \"404\": {\"description\": \"Order not found\"}}}}}'),\n",
       " Document(metadata={'source': '/Users/c360/Desktop/openapi.json', 'seq_num': 12}, page_content='{\"endpoint\": \"/store/order/{orderId}\", \"methods\": {\"method\": \"delete\", \"details\": {\"tags\": [\"store\"], \"summary\": \"Delete purchase order by ID\", \"description\": \"For valid response try integer IDs with value < 1000. Anything above 1000 or nonintegers will generate API errors\", \"operationId\": \"deleteOrder\", \"parameters\": [{\"name\": \"orderId\", \"in\": \"path\", \"description\": \"ID of the order that needs to be deleted\", \"required\": true, \"schema\": {\"type\": \"integer\", \"format\": \"int64\"}}], \"responses\": {\"400\": {\"description\": \"Invalid ID supplied\"}, \"404\": {\"description\": \"Order not found\"}}}}}'),\n",
       " Document(metadata={'source': '/Users/c360/Desktop/openapi.json', 'seq_num': 13}, page_content='{\"endpoint\": \"/user\", \"methods\": {\"method\": \"post\", \"details\": {\"tags\": [\"user\"], \"summary\": \"Create user\", \"description\": \"This can only be done by the logged in user.\", \"operationId\": \"createUser\", \"requestBody\": {\"description\": \"Created user object\", \"content\": {\"application/json\": {\"schema\": {\"$ref\": \"#/components/schemas/User\"}}, \"application/xml\": {\"schema\": {\"$ref\": \"#/components/schemas/User\"}}, \"application/x-www-form-urlencoded\": {\"schema\": {\"$ref\": \"#/components/schemas/User\"}}}}, \"responses\": {\"default\": {\"description\": \"successful operation\", \"content\": {\"application/json\": {\"schema\": {\"$ref\": \"#/components/schemas/User\"}}, \"application/xml\": {\"schema\": {\"$ref\": \"#/components/schemas/User\"}}}}}}}}'),\n",
       " Document(metadata={'source': '/Users/c360/Desktop/openapi.json', 'seq_num': 14}, page_content='{\"endpoint\": \"/user/createWithList\", \"methods\": {\"method\": \"post\", \"details\": {\"tags\": [\"user\"], \"summary\": \"Creates list of users with given input array\", \"description\": \"Creates list of users with given input array\", \"operationId\": \"createUsersWithListInput\", \"requestBody\": {\"content\": {\"application/json\": {\"schema\": {\"type\": \"array\", \"items\": {\"$ref\": \"#/components/schemas/User\"}}}}}, \"responses\": {\"200\": {\"description\": \"Successful operation\", \"content\": {\"application/json\": {\"schema\": {\"$ref\": \"#/components/schemas/User\"}}, \"application/xml\": {\"schema\": {\"$ref\": \"#/components/schemas/User\"}}}}, \"default\": {\"description\": \"successful operation\"}}}}}'),\n",
       " Document(metadata={'source': '/Users/c360/Desktop/openapi.json', 'seq_num': 15}, page_content='{\"endpoint\": \"/user/login\", \"methods\": {\"method\": \"get\", \"details\": {\"tags\": [\"user\"], \"summary\": \"Logs user into the system\", \"description\": \"\", \"operationId\": \"loginUser\", \"parameters\": [{\"name\": \"username\", \"in\": \"query\", \"description\": \"The user name for login\", \"required\": false, \"schema\": {\"type\": \"string\"}}, {\"name\": \"password\", \"in\": \"query\", \"description\": \"The password for login in clear text\", \"required\": false, \"schema\": {\"type\": \"string\"}}], \"responses\": {\"200\": {\"description\": \"successful operation\", \"headers\": {\"X-Rate-Limit\": {\"description\": \"calls per hour allowed by the user\", \"schema\": {\"type\": \"integer\", \"format\": \"int32\"}}, \"X-Expires-After\": {\"description\": \"date in UTC when token expires\", \"schema\": {\"type\": \"string\", \"format\": \"date-time\"}}}, \"content\": {\"application/xml\": {\"schema\": {\"type\": \"string\"}}, \"application/json\": {\"schema\": {\"type\": \"string\"}}}}, \"400\": {\"description\": \"Invalid username/password supplied\"}}}}}'),\n",
       " Document(metadata={'source': '/Users/c360/Desktop/openapi.json', 'seq_num': 16}, page_content='{\"endpoint\": \"/user/logout\", \"methods\": {\"method\": \"get\", \"details\": {\"tags\": [\"user\"], \"summary\": \"Logs out current logged in user session\", \"description\": \"\", \"operationId\": \"logoutUser\", \"parameters\": [], \"responses\": {\"default\": {\"description\": \"successful operation\"}}}}}'),\n",
       " Document(metadata={'source': '/Users/c360/Desktop/openapi.json', 'seq_num': 17}, page_content='{\"endpoint\": \"/user/{username}\", \"methods\": {\"method\": \"get\", \"details\": {\"tags\": [\"user\"], \"summary\": \"Get user by user name\", \"description\": \"\", \"operationId\": \"getUserByName\", \"parameters\": [{\"name\": \"username\", \"in\": \"path\", \"description\": \"The name that needs to be fetched. Use user1 for testing. \", \"required\": true, \"schema\": {\"type\": \"string\"}}], \"responses\": {\"200\": {\"description\": \"successful operation\", \"content\": {\"application/json\": {\"schema\": {\"$ref\": \"#/components/schemas/User\"}}, \"application/xml\": {\"schema\": {\"$ref\": \"#/components/schemas/User\"}}}}, \"400\": {\"description\": \"Invalid username supplied\"}, \"404\": {\"description\": \"User not found\"}}}}}'),\n",
       " Document(metadata={'source': '/Users/c360/Desktop/openapi.json', 'seq_num': 18}, page_content='{\"endpoint\": \"/user/{username}\", \"methods\": {\"method\": \"put\", \"details\": {\"tags\": [\"user\"], \"summary\": \"Update user\", \"description\": \"This can only be done by the logged in user.\", \"operationId\": \"updateUser\", \"parameters\": [{\"name\": \"username\", \"in\": \"path\", \"description\": \"name that need to be deleted\", \"required\": true, \"schema\": {\"type\": \"string\"}}], \"requestBody\": {\"description\": \"Update an existent user in the store\", \"content\": {\"application/json\": {\"schema\": {\"$ref\": \"#/components/schemas/User\"}}, \"application/xml\": {\"schema\": {\"$ref\": \"#/components/schemas/User\"}}, \"application/x-www-form-urlencoded\": {\"schema\": {\"$ref\": \"#/components/schemas/User\"}}}}, \"responses\": {\"default\": {\"description\": \"successful operation\"}}}}}'),\n",
       " Document(metadata={'source': '/Users/c360/Desktop/openapi.json', 'seq_num': 19}, page_content='{\"endpoint\": \"/user/{username}\", \"methods\": {\"method\": \"delete\", \"details\": {\"tags\": [\"user\"], \"summary\": \"Delete user\", \"description\": \"This can only be done by the logged in user.\", \"operationId\": \"deleteUser\", \"parameters\": [{\"name\": \"username\", \"in\": \"path\", \"description\": \"The name that needs to be deleted\", \"required\": true, \"schema\": {\"type\": \"string\"}}], \"responses\": {\"400\": {\"description\": \"Invalid username supplied\"}, \"404\": {\"description\": \"User not found\"}}}}}')]"
      ]
     },
     "execution_count": 5,
     "metadata": {},
     "output_type": "execute_result"
    }
   ],
   "source": [
    "docs"
   ]
  },
  {
   "cell_type": "code",
   "execution_count": 6,
   "metadata": {},
   "outputs": [
    {
     "data": {
      "text/plain": [
       "Document(metadata={'source': '/Users/c360/Desktop/openapi.json', 'seq_num': 1}, page_content='{\"endpoint\": \"/pet\", \"methods\": {\"method\": \"put\", \"details\": {\"tags\": [\"pet\"], \"summary\": \"Update an existing pet\", \"description\": \"Update an existing pet by Id\", \"operationId\": \"updatePet\", \"requestBody\": {\"description\": \"Update an existent pet in the store\", \"content\": {\"application/json\": {\"schema\": {\"$ref\": \"#/components/schemas/Pet\"}}, \"application/xml\": {\"schema\": {\"$ref\": \"#/components/schemas/Pet\"}}, \"application/x-www-form-urlencoded\": {\"schema\": {\"$ref\": \"#/components/schemas/Pet\"}}}, \"required\": true}, \"responses\": {\"200\": {\"description\": \"Successful operation\", \"content\": {\"application/json\": {\"schema\": {\"$ref\": \"#/components/schemas/Pet\"}}, \"application/xml\": {\"schema\": {\"$ref\": \"#/components/schemas/Pet\"}}}}, \"400\": {\"description\": \"Invalid ID supplied\"}, \"404\": {\"description\": \"Pet not found\"}, \"422\": {\"description\": \"Validation exception\"}}, \"security\": [{\"petstore_auth\": [\"write:pets\", \"read:pets\"]}]}}}')"
      ]
     },
     "execution_count": 6,
     "metadata": {},
     "output_type": "execute_result"
    }
   ],
   "source": [
    "docs[0]"
   ]
  },
  {
   "cell_type": "code",
   "execution_count": 7,
   "metadata": {},
   "outputs": [
    {
     "data": {
      "text/plain": [
       "19"
      ]
     },
     "execution_count": 7,
     "metadata": {},
     "output_type": "execute_result"
    }
   ],
   "source": [
    "text_splitter = RecursiveCharacterTextSplitter(chunk_size=1000, chunk_overlap=200, length_function =len,)\n",
    "\n",
    "chunks = text_splitter.split_documents(docs)\n",
    "len(chunks)"
   ]
  },
  {
   "cell_type": "code",
   "execution_count": 8,
   "metadata": {},
   "outputs": [
    {
     "data": {
      "text/plain": [
       "[Document(metadata={'source': '/Users/c360/Desktop/openapi.json', 'seq_num': 1}, page_content='{\"endpoint\": \"/pet\", \"methods\": {\"method\": \"put\", \"details\": {\"tags\": [\"pet\"], \"summary\": \"Update an existing pet\", \"description\": \"Update an existing pet by Id\", \"operationId\": \"updatePet\", \"requestBody\": {\"description\": \"Update an existent pet in the store\", \"content\": {\"application/json\": {\"schema\": {\"$ref\": \"#/components/schemas/Pet\"}}, \"application/xml\": {\"schema\": {\"$ref\": \"#/components/schemas/Pet\"}}, \"application/x-www-form-urlencoded\": {\"schema\": {\"$ref\": \"#/components/schemas/Pet\"}}}, \"required\": true}, \"responses\": {\"200\": {\"description\": \"Successful operation\", \"content\": {\"application/json\": {\"schema\": {\"$ref\": \"#/components/schemas/Pet\"}}, \"application/xml\": {\"schema\": {\"$ref\": \"#/components/schemas/Pet\"}}}}, \"400\": {\"description\": \"Invalid ID supplied\"}, \"404\": {\"description\": \"Pet not found\"}, \"422\": {\"description\": \"Validation exception\"}}, \"security\": [{\"petstore_auth\": [\"write:pets\", \"read:pets\"]}]}}}'),\n",
       " Document(metadata={'source': '/Users/c360/Desktop/openapi.json', 'seq_num': 2}, page_content='{\"endpoint\": \"/pet\", \"methods\": {\"method\": \"post\", \"details\": {\"tags\": [\"pet\"], \"summary\": \"Add a new pet to the store\", \"description\": \"Add a new pet to the store\", \"operationId\": \"addPet\", \"requestBody\": {\"description\": \"Create a new pet in the store\", \"content\": {\"application/json\": {\"schema\": {\"$ref\": \"#/components/schemas/Pet\"}}, \"application/xml\": {\"schema\": {\"$ref\": \"#/components/schemas/Pet\"}}, \"application/x-www-form-urlencoded\": {\"schema\": {\"$ref\": \"#/components/schemas/Pet\"}}}, \"required\": true}, \"responses\": {\"200\": {\"description\": \"Successful operation\", \"content\": {\"application/json\": {\"schema\": {\"$ref\": \"#/components/schemas/Pet\"}}, \"application/xml\": {\"schema\": {\"$ref\": \"#/components/schemas/Pet\"}}}}, \"400\": {\"description\": \"Invalid input\"}, \"422\": {\"description\": \"Validation exception\"}}, \"security\": [{\"petstore_auth\": [\"write:pets\", \"read:pets\"]}]}}}'),\n",
       " Document(metadata={'source': '/Users/c360/Desktop/openapi.json', 'seq_num': 3}, page_content='{\"endpoint\": \"/pet/findByStatus\", \"methods\": {\"method\": \"get\", \"details\": {\"tags\": [\"pet\"], \"summary\": \"Finds Pets by status\", \"description\": \"Multiple status values can be provided with comma separated strings\", \"operationId\": \"findPetsByStatus\", \"parameters\": [{\"name\": \"status\", \"in\": \"query\", \"description\": \"Status values that need to be considered for filter\", \"required\": false, \"explode\": true, \"schema\": {\"type\": \"string\", \"default\": \"available\", \"enum\": [\"available\", \"pending\", \"sold\"]}}], \"responses\": {\"200\": {\"description\": \"successful operation\", \"content\": {\"application/json\": {\"schema\": {\"type\": \"array\", \"items\": {\"$ref\": \"#/components/schemas/Pet\"}}}, \"application/xml\": {\"schema\": {\"type\": \"array\", \"items\": {\"$ref\": \"#/components/schemas/Pet\"}}}}}, \"400\": {\"description\": \"Invalid status value\"}}, \"security\": [{\"petstore_auth\": [\"write:pets\", \"read:pets\"]}]}}}'),\n",
       " Document(metadata={'source': '/Users/c360/Desktop/openapi.json', 'seq_num': 4}, page_content='{\"endpoint\": \"/pet/findByTags\", \"methods\": {\"method\": \"get\", \"details\": {\"tags\": [\"pet\"], \"summary\": \"Finds Pets by tags\", \"description\": \"Multiple tags can be provided with comma separated strings. Use tag1, tag2, tag3 for testing.\", \"operationId\": \"findPetsByTags\", \"parameters\": [{\"name\": \"tags\", \"in\": \"query\", \"description\": \"Tags to filter by\", \"required\": false, \"explode\": true, \"schema\": {\"type\": \"array\", \"items\": {\"type\": \"string\"}}}], \"responses\": {\"200\": {\"description\": \"successful operation\", \"content\": {\"application/json\": {\"schema\": {\"type\": \"array\", \"items\": {\"$ref\": \"#/components/schemas/Pet\"}}}, \"application/xml\": {\"schema\": {\"type\": \"array\", \"items\": {\"$ref\": \"#/components/schemas/Pet\"}}}}}, \"400\": {\"description\": \"Invalid tag value\"}}, \"security\": [{\"petstore_auth\": [\"write:pets\", \"read:pets\"]}]}}}'),\n",
       " Document(metadata={'source': '/Users/c360/Desktop/openapi.json', 'seq_num': 5}, page_content='{\"endpoint\": \"/pet/{petId}\", \"methods\": {\"method\": \"get\", \"details\": {\"tags\": [\"pet\"], \"summary\": \"Find pet by ID\", \"description\": \"Returns a single pet\", \"operationId\": \"getPetById\", \"parameters\": [{\"name\": \"petId\", \"in\": \"path\", \"description\": \"ID of pet to return\", \"required\": true, \"schema\": {\"type\": \"integer\", \"format\": \"int64\"}}], \"responses\": {\"200\": {\"description\": \"successful operation\", \"content\": {\"application/json\": {\"schema\": {\"$ref\": \"#/components/schemas/Pet\"}}, \"application/xml\": {\"schema\": {\"$ref\": \"#/components/schemas/Pet\"}}}}, \"400\": {\"description\": \"Invalid ID supplied\"}, \"404\": {\"description\": \"Pet not found\"}}, \"security\": [{\"api_key\": []}, {\"petstore_auth\": [\"write:pets\", \"read:pets\"]}]}}}'),\n",
       " Document(metadata={'source': '/Users/c360/Desktop/openapi.json', 'seq_num': 6}, page_content='{\"endpoint\": \"/pet/{petId}\", \"methods\": {\"method\": \"post\", \"details\": {\"tags\": [\"pet\"], \"summary\": \"Updates a pet in the store with form data\", \"description\": \"\", \"operationId\": \"updatePetWithForm\", \"parameters\": [{\"name\": \"petId\", \"in\": \"path\", \"description\": \"ID of pet that needs to be updated\", \"required\": true, \"schema\": {\"type\": \"integer\", \"format\": \"int64\"}}, {\"name\": \"name\", \"in\": \"query\", \"description\": \"Name of pet that needs to be updated\", \"schema\": {\"type\": \"string\"}}, {\"name\": \"status\", \"in\": \"query\", \"description\": \"Status of pet that needs to be updated\", \"schema\": {\"type\": \"string\"}}], \"responses\": {\"400\": {\"description\": \"Invalid input\"}}, \"security\": [{\"petstore_auth\": [\"write:pets\", \"read:pets\"]}]}}}'),\n",
       " Document(metadata={'source': '/Users/c360/Desktop/openapi.json', 'seq_num': 7}, page_content='{\"endpoint\": \"/pet/{petId}\", \"methods\": {\"method\": \"delete\", \"details\": {\"tags\": [\"pet\"], \"summary\": \"Deletes a pet\", \"description\": \"delete a pet\", \"operationId\": \"deletePet\", \"parameters\": [{\"name\": \"api_key\", \"in\": \"header\", \"description\": \"\", \"required\": false, \"schema\": {\"type\": \"string\"}}, {\"name\": \"petId\", \"in\": \"path\", \"description\": \"Pet id to delete\", \"required\": true, \"schema\": {\"type\": \"integer\", \"format\": \"int64\"}}], \"responses\": {\"400\": {\"description\": \"Invalid pet value\"}}, \"security\": [{\"petstore_auth\": [\"write:pets\", \"read:pets\"]}]}}}'),\n",
       " Document(metadata={'source': '/Users/c360/Desktop/openapi.json', 'seq_num': 8}, page_content='{\"endpoint\": \"/pet/{petId}/uploadImage\", \"methods\": {\"method\": \"post\", \"details\": {\"tags\": [\"pet\"], \"summary\": \"uploads an image\", \"description\": \"\", \"operationId\": \"uploadFile\", \"parameters\": [{\"name\": \"petId\", \"in\": \"path\", \"description\": \"ID of pet to update\", \"required\": true, \"schema\": {\"type\": \"integer\", \"format\": \"int64\"}}, {\"name\": \"additionalMetadata\", \"in\": \"query\", \"description\": \"Additional Metadata\", \"required\": false, \"schema\": {\"type\": \"string\"}}], \"requestBody\": {\"content\": {\"application/octet-stream\": {\"schema\": {\"type\": \"string\", \"format\": \"binary\"}}}}, \"responses\": {\"200\": {\"description\": \"successful operation\", \"content\": {\"application/json\": {\"schema\": {\"$ref\": \"#/components/schemas/ApiResponse\"}}}}}, \"security\": [{\"petstore_auth\": [\"write:pets\", \"read:pets\"]}]}}}'),\n",
       " Document(metadata={'source': '/Users/c360/Desktop/openapi.json', 'seq_num': 9}, page_content='{\"endpoint\": \"/store/inventory\", \"methods\": {\"method\": \"get\", \"details\": {\"tags\": [\"store\"], \"summary\": \"Returns pet inventories by status\", \"description\": \"Returns a map of status codes to quantities\", \"operationId\": \"getInventory\", \"responses\": {\"200\": {\"description\": \"successful operation\", \"content\": {\"application/json\": {\"schema\": {\"type\": \"object\", \"additionalProperties\": {\"type\": \"integer\", \"format\": \"int32\"}}}}}}, \"security\": [{\"api_key\": []}]}}}'),\n",
       " Document(metadata={'source': '/Users/c360/Desktop/openapi.json', 'seq_num': 10}, page_content='{\"endpoint\": \"/store/order\", \"methods\": {\"method\": \"post\", \"details\": {\"tags\": [\"store\"], \"summary\": \"Place an order for a pet\", \"description\": \"Place a new order in the store\", \"operationId\": \"placeOrder\", \"requestBody\": {\"content\": {\"application/json\": {\"schema\": {\"$ref\": \"#/components/schemas/Order\"}}, \"application/xml\": {\"schema\": {\"$ref\": \"#/components/schemas/Order\"}}, \"application/x-www-form-urlencoded\": {\"schema\": {\"$ref\": \"#/components/schemas/Order\"}}}}, \"responses\": {\"200\": {\"description\": \"successful operation\", \"content\": {\"application/json\": {\"schema\": {\"$ref\": \"#/components/schemas/Order\"}}}}, \"400\": {\"description\": \"Invalid input\"}, \"422\": {\"description\": \"Validation exception\"}}}}}'),\n",
       " Document(metadata={'source': '/Users/c360/Desktop/openapi.json', 'seq_num': 11}, page_content='{\"endpoint\": \"/store/order/{orderId}\", \"methods\": {\"method\": \"get\", \"details\": {\"tags\": [\"store\"], \"summary\": \"Find purchase order by ID\", \"description\": \"For valid response try integer IDs with value <= 5 or > 10. Other values will generate exceptions.\", \"operationId\": \"getOrderById\", \"parameters\": [{\"name\": \"orderId\", \"in\": \"path\", \"description\": \"ID of order that needs to be fetched\", \"required\": true, \"schema\": {\"type\": \"integer\", \"format\": \"int64\"}}], \"responses\": {\"200\": {\"description\": \"successful operation\", \"content\": {\"application/json\": {\"schema\": {\"$ref\": \"#/components/schemas/Order\"}}, \"application/xml\": {\"schema\": {\"$ref\": \"#/components/schemas/Order\"}}}}, \"400\": {\"description\": \"Invalid ID supplied\"}, \"404\": {\"description\": \"Order not found\"}}}}}'),\n",
       " Document(metadata={'source': '/Users/c360/Desktop/openapi.json', 'seq_num': 12}, page_content='{\"endpoint\": \"/store/order/{orderId}\", \"methods\": {\"method\": \"delete\", \"details\": {\"tags\": [\"store\"], \"summary\": \"Delete purchase order by ID\", \"description\": \"For valid response try integer IDs with value < 1000. Anything above 1000 or nonintegers will generate API errors\", \"operationId\": \"deleteOrder\", \"parameters\": [{\"name\": \"orderId\", \"in\": \"path\", \"description\": \"ID of the order that needs to be deleted\", \"required\": true, \"schema\": {\"type\": \"integer\", \"format\": \"int64\"}}], \"responses\": {\"400\": {\"description\": \"Invalid ID supplied\"}, \"404\": {\"description\": \"Order not found\"}}}}}'),\n",
       " Document(metadata={'source': '/Users/c360/Desktop/openapi.json', 'seq_num': 13}, page_content='{\"endpoint\": \"/user\", \"methods\": {\"method\": \"post\", \"details\": {\"tags\": [\"user\"], \"summary\": \"Create user\", \"description\": \"This can only be done by the logged in user.\", \"operationId\": \"createUser\", \"requestBody\": {\"description\": \"Created user object\", \"content\": {\"application/json\": {\"schema\": {\"$ref\": \"#/components/schemas/User\"}}, \"application/xml\": {\"schema\": {\"$ref\": \"#/components/schemas/User\"}}, \"application/x-www-form-urlencoded\": {\"schema\": {\"$ref\": \"#/components/schemas/User\"}}}}, \"responses\": {\"default\": {\"description\": \"successful operation\", \"content\": {\"application/json\": {\"schema\": {\"$ref\": \"#/components/schemas/User\"}}, \"application/xml\": {\"schema\": {\"$ref\": \"#/components/schemas/User\"}}}}}}}}'),\n",
       " Document(metadata={'source': '/Users/c360/Desktop/openapi.json', 'seq_num': 14}, page_content='{\"endpoint\": \"/user/createWithList\", \"methods\": {\"method\": \"post\", \"details\": {\"tags\": [\"user\"], \"summary\": \"Creates list of users with given input array\", \"description\": \"Creates list of users with given input array\", \"operationId\": \"createUsersWithListInput\", \"requestBody\": {\"content\": {\"application/json\": {\"schema\": {\"type\": \"array\", \"items\": {\"$ref\": \"#/components/schemas/User\"}}}}}, \"responses\": {\"200\": {\"description\": \"Successful operation\", \"content\": {\"application/json\": {\"schema\": {\"$ref\": \"#/components/schemas/User\"}}, \"application/xml\": {\"schema\": {\"$ref\": \"#/components/schemas/User\"}}}}, \"default\": {\"description\": \"successful operation\"}}}}}'),\n",
       " Document(metadata={'source': '/Users/c360/Desktop/openapi.json', 'seq_num': 15}, page_content='{\"endpoint\": \"/user/login\", \"methods\": {\"method\": \"get\", \"details\": {\"tags\": [\"user\"], \"summary\": \"Logs user into the system\", \"description\": \"\", \"operationId\": \"loginUser\", \"parameters\": [{\"name\": \"username\", \"in\": \"query\", \"description\": \"The user name for login\", \"required\": false, \"schema\": {\"type\": \"string\"}}, {\"name\": \"password\", \"in\": \"query\", \"description\": \"The password for login in clear text\", \"required\": false, \"schema\": {\"type\": \"string\"}}], \"responses\": {\"200\": {\"description\": \"successful operation\", \"headers\": {\"X-Rate-Limit\": {\"description\": \"calls per hour allowed by the user\", \"schema\": {\"type\": \"integer\", \"format\": \"int32\"}}, \"X-Expires-After\": {\"description\": \"date in UTC when token expires\", \"schema\": {\"type\": \"string\", \"format\": \"date-time\"}}}, \"content\": {\"application/xml\": {\"schema\": {\"type\": \"string\"}}, \"application/json\": {\"schema\": {\"type\": \"string\"}}}}, \"400\": {\"description\": \"Invalid username/password supplied\"}}}}}'),\n",
       " Document(metadata={'source': '/Users/c360/Desktop/openapi.json', 'seq_num': 16}, page_content='{\"endpoint\": \"/user/logout\", \"methods\": {\"method\": \"get\", \"details\": {\"tags\": [\"user\"], \"summary\": \"Logs out current logged in user session\", \"description\": \"\", \"operationId\": \"logoutUser\", \"parameters\": [], \"responses\": {\"default\": {\"description\": \"successful operation\"}}}}}'),\n",
       " Document(metadata={'source': '/Users/c360/Desktop/openapi.json', 'seq_num': 17}, page_content='{\"endpoint\": \"/user/{username}\", \"methods\": {\"method\": \"get\", \"details\": {\"tags\": [\"user\"], \"summary\": \"Get user by user name\", \"description\": \"\", \"operationId\": \"getUserByName\", \"parameters\": [{\"name\": \"username\", \"in\": \"path\", \"description\": \"The name that needs to be fetched. Use user1 for testing. \", \"required\": true, \"schema\": {\"type\": \"string\"}}], \"responses\": {\"200\": {\"description\": \"successful operation\", \"content\": {\"application/json\": {\"schema\": {\"$ref\": \"#/components/schemas/User\"}}, \"application/xml\": {\"schema\": {\"$ref\": \"#/components/schemas/User\"}}}}, \"400\": {\"description\": \"Invalid username supplied\"}, \"404\": {\"description\": \"User not found\"}}}}}'),\n",
       " Document(metadata={'source': '/Users/c360/Desktop/openapi.json', 'seq_num': 18}, page_content='{\"endpoint\": \"/user/{username}\", \"methods\": {\"method\": \"put\", \"details\": {\"tags\": [\"user\"], \"summary\": \"Update user\", \"description\": \"This can only be done by the logged in user.\", \"operationId\": \"updateUser\", \"parameters\": [{\"name\": \"username\", \"in\": \"path\", \"description\": \"name that need to be deleted\", \"required\": true, \"schema\": {\"type\": \"string\"}}], \"requestBody\": {\"description\": \"Update an existent user in the store\", \"content\": {\"application/json\": {\"schema\": {\"$ref\": \"#/components/schemas/User\"}}, \"application/xml\": {\"schema\": {\"$ref\": \"#/components/schemas/User\"}}, \"application/x-www-form-urlencoded\": {\"schema\": {\"$ref\": \"#/components/schemas/User\"}}}}, \"responses\": {\"default\": {\"description\": \"successful operation\"}}}}}'),\n",
       " Document(metadata={'source': '/Users/c360/Desktop/openapi.json', 'seq_num': 19}, page_content='{\"endpoint\": \"/user/{username}\", \"methods\": {\"method\": \"delete\", \"details\": {\"tags\": [\"user\"], \"summary\": \"Delete user\", \"description\": \"This can only be done by the logged in user.\", \"operationId\": \"deleteUser\", \"parameters\": [{\"name\": \"username\", \"in\": \"path\", \"description\": \"The name that needs to be deleted\", \"required\": true, \"schema\": {\"type\": \"string\"}}], \"responses\": {\"400\": {\"description\": \"Invalid username supplied\"}, \"404\": {\"description\": \"User not found\"}}}}}')]"
      ]
     },
     "execution_count": 8,
     "metadata": {},
     "output_type": "execute_result"
    }
   ],
   "source": [
    "chunks"
   ]
  },
  {
   "cell_type": "code",
   "execution_count": 6,
   "metadata": {},
   "outputs": [
    {
     "name": "stderr",
     "output_type": "stream",
     "text": [
      "/Users/c360/work/rag/.venv/lib/python3.10/site-packages/tqdm/auto.py:21: TqdmWarning: IProgress not found. Please update jupyter and ipywidgets. See https://ipywidgets.readthedocs.io/en/stable/user_install.html\n",
      "  from .autonotebook import tqdm as notebook_tqdm\n"
     ]
    }
   ],
   "source": [
    "embeddings = HuggingFaceEmbeddings(model_name=\"sentence-transformers/all-MiniLM-L6-v2\")"
   ]
  },
  {
   "cell_type": "code",
   "execution_count": 8,
   "metadata": {},
   "outputs": [],
   "source": [
    "vector_store =Chroma(\n",
    "    collection_name=\"pets2\",\n",
    "    embedding_function=embeddings,\n",
    "    persist_directory=\"/Users/c360/Documents/chroma_db\"\n",
    ")"
   ]
  },
  {
   "cell_type": "code",
   "execution_count": 9,
   "metadata": {},
   "outputs": [
    {
     "data": {
      "text/plain": [
       "['7e3a6d45-71cb-4b29-afba-3b552f7dbfbf',\n",
       " '027b671a-3846-44ff-ac49-b8ba7d022bd5',\n",
       " '9ba23737-7abd-4814-96da-31d1d4070f72',\n",
       " '4c11a6a8-daff-491c-89da-3429f88be90d',\n",
       " '5039a7ae-e942-4f51-8579-3a30da96d1f1',\n",
       " '60a9399e-9079-443d-a3ee-13073357e666',\n",
       " '2c991d73-a18a-4bb9-a1c8-8611a7766cd0',\n",
       " '44cc3afb-444d-49b4-84e4-9fcf53123a68',\n",
       " '464123ff-a16f-4ac1-8073-61ed823eaee9',\n",
       " '5d1e0f4a-eb6c-4c23-a800-165fb0111393',\n",
       " '56029be8-73e0-4970-8991-c7b795881d20',\n",
       " 'e3cc8a5f-a757-4a0b-bcbb-0e99d735b4bb',\n",
       " 'b89527d9-43ba-4db7-8a33-7aeb5a43661e',\n",
       " 'f2c67781-254c-4739-99e2-611d3ca76aed',\n",
       " '1453605d-ac8d-4a69-8a4b-bab50edbf8df',\n",
       " '44623c58-1cb5-41bc-8924-f28f1faca613',\n",
       " '6a42d28a-16c1-462d-b328-f8646ad4c4a0',\n",
       " 'bf11dcbd-d642-4080-9299-bb1fbc1933ba',\n",
       " '71d48437-29b7-47bc-a5fe-25c063a23bfc']"
      ]
     },
     "execution_count": 9,
     "metadata": {},
     "output_type": "execute_result"
    }
   ],
   "source": [
    "vector_store.add_documents(documents=docs)"
   ]
  },
  {
   "cell_type": "code",
   "execution_count": 35,
   "metadata": {},
   "outputs": [
    {
     "name": "stdout",
     "output_type": "stream",
     "text": [
      "Extracted Endpoints:\n",
      "/pet\n",
      "/pet\n",
      "/pet/findByStatus\n",
      "/pet/findByTags\n",
      "/pet/{petId}\n",
      "/pet/{petId}\n",
      "/pet/{petId}\n",
      "/pet/{petId}/uploadImage\n",
      "/store/inventory\n",
      "/store/order\n",
      "/store/order/{orderId}\n",
      "/store/order/{orderId}\n",
      "/user\n",
      "/user/createWithList\n",
      "/user/login\n",
      "/user/logout\n",
      "/user/{username}\n",
      "/user/{username}\n",
      "/user/{username}\n"
     ]
    }
   ],
   "source": [
    "endpoints = []\n",
    "\n",
    "# Iterate through the Document objects\n",
    "for doc in data:\n",
    "    try:\n",
    "        # Parse the JSON content from page_content\n",
    "        content = json.loads(doc.page_content)\n",
    "        endpoint = content.get(\"endpoint\")\n",
    "        if endpoint:  # Add to the list if the endpoint exists\n",
    "            endpoints.append(endpoint)\n",
    "    except json.JSONDecodeError as e:\n",
    "        print(f\"Error parsing content: {e}\")\n",
    "\n",
    "# Print all the endpoints\n",
    "print(\"Extracted Endpoints:\")\n",
    "for endpoint in endpoints:\n",
    "    print(endpoint)"
   ]
  },
  {
   "cell_type": "code",
   "execution_count": 21,
   "metadata": {},
   "outputs": [
    {
     "name": "stdout",
     "output_type": "stream",
     "text": [
      "Raw JSON: {'openapi': '3.0.3', 'info': {'title': 'Swagger Petstore - OpenAPI 3.0', 'description': \"This is a sample Pet Store Server based on the OpenAPI 3.0 specification.  You can find out more about\\nSwagger at [https://swagger.io](https://swagger.io). In the third iteration of the pet store, we've switched to the design first approach!\\nYou can now help us improve the API whether it's by making changes to the definition itself or to the code.\\nThat way, with time, we can improve the API in general, and expose some of the new features in OAS3.\\n\\n_If you're looking for the Swagger 2.0/OAS 2.0 version of Petstore, then click [here](https://editor.swagger.io/?url=https://petstore.swagger.io/v2/swagger.yaml). Alternatively, you can load via the `Edit > Load Petstore OAS 2.0` menu option!_\\n\\nSome useful links:\\n- [The Pet Store repository](https://github.com/swagger-api/swagger-petstore)\\n- [The source API definition for the Pet Store](https://github.com/swagger-api/swagger-petstore/blob/master/src/main/resources/openapi.yaml)\", 'termsOfService': 'http://swagger.io/terms/', 'contact': {'email': 'apiteam@swagger.io'}, 'license': {'name': 'Apache 2.0', 'url': 'http://www.apache.org/licenses/LICENSE-2.0.html'}, 'version': '1.0.11'}, 'externalDocs': {'description': 'Find out more about Swagger', 'url': 'http://swagger.io'}, 'servers': [{'url': 'https://petstore3.swagger.io/api/v3'}], 'tags': [{'name': 'pet', 'description': 'Everything about your Pets', 'externalDocs': {'description': 'Find out more', 'url': 'http://swagger.io'}}, {'name': 'store', 'description': 'Access to Petstore orders', 'externalDocs': {'description': 'Find out more about our store', 'url': 'http://swagger.io'}}, {'name': 'user', 'description': 'Operations about user'}], 'paths': {'/pet': {'put': {'tags': ['pet'], 'summary': 'Update an existing pet', 'description': 'Update an existing pet by Id', 'operationId': 'updatePet', 'requestBody': {'description': 'Update an existent pet in the store', 'content': {'application/json': {'schema': {'$ref': '#/components/schemas/Pet'}}, 'application/xml': {'schema': {'$ref': '#/components/schemas/Pet'}}, 'application/x-www-form-urlencoded': {'schema': {'$ref': '#/components/schemas/Pet'}}}, 'required': True}, 'responses': {'200': {'description': 'Successful operation', 'content': {'application/json': {'schema': {'$ref': '#/components/schemas/Pet'}}, 'application/xml': {'schema': {'$ref': '#/components/schemas/Pet'}}}}, '400': {'description': 'Invalid ID supplied'}, '404': {'description': 'Pet not found'}, '422': {'description': 'Validation exception'}}, 'security': [{'petstore_auth': ['write:pets', 'read:pets']}]}, 'post': {'tags': ['pet'], 'summary': 'Add a new pet to the store', 'description': 'Add a new pet to the store', 'operationId': 'addPet', 'requestBody': {'description': 'Create a new pet in the store', 'content': {'application/json': {'schema': {'$ref': '#/components/schemas/Pet'}}, 'application/xml': {'schema': {'$ref': '#/components/schemas/Pet'}}, 'application/x-www-form-urlencoded': {'schema': {'$ref': '#/components/schemas/Pet'}}}, 'required': True}, 'responses': {'200': {'description': 'Successful operation', 'content': {'application/json': {'schema': {'$ref': '#/components/schemas/Pet'}}, 'application/xml': {'schema': {'$ref': '#/components/schemas/Pet'}}}}, '400': {'description': 'Invalid input'}, '422': {'description': 'Validation exception'}}, 'security': [{'petstore_auth': ['write:pets', 'read:pets']}]}}, '/pet/findByStatus': {'get': {'tags': ['pet'], 'summary': 'Finds Pets by status', 'description': 'Multiple status values can be provided with comma separated strings', 'operationId': 'findPetsByStatus', 'parameters': [{'name': 'status', 'in': 'query', 'description': 'Status values that need to be considered for filter', 'required': False, 'explode': True, 'schema': {'type': 'string', 'default': 'available', 'enum': ['available', 'pending', 'sold']}}], 'responses': {'200': {'description': 'successful operation', 'content': {'application/json': {'schema': {'type': 'array', 'items': {'$ref': '#/components/schemas/Pet'}}}, 'application/xml': {'schema': {'type': 'array', 'items': {'$ref': '#/components/schemas/Pet'}}}}}, '400': {'description': 'Invalid status value'}}, 'security': [{'petstore_auth': ['write:pets', 'read:pets']}]}}, '/pet/findByTags': {'get': {'tags': ['pet'], 'summary': 'Finds Pets by tags', 'description': 'Multiple tags can be provided with comma separated strings. Use tag1, tag2, tag3 for testing.', 'operationId': 'findPetsByTags', 'parameters': [{'name': 'tags', 'in': 'query', 'description': 'Tags to filter by', 'required': False, 'explode': True, 'schema': {'type': 'array', 'items': {'type': 'string'}}}], 'responses': {'200': {'description': 'successful operation', 'content': {'application/json': {'schema': {'type': 'array', 'items': {'$ref': '#/components/schemas/Pet'}}}, 'application/xml': {'schema': {'type': 'array', 'items': {'$ref': '#/components/schemas/Pet'}}}}}, '400': {'description': 'Invalid tag value'}}, 'security': [{'petstore_auth': ['write:pets', 'read:pets']}]}}, '/pet/{petId}': {'get': {'tags': ['pet'], 'summary': 'Find pet by ID', 'description': 'Returns a single pet', 'operationId': 'getPetById', 'parameters': [{'name': 'petId', 'in': 'path', 'description': 'ID of pet to return', 'required': True, 'schema': {'type': 'integer', 'format': 'int64'}}], 'responses': {'200': {'description': 'successful operation', 'content': {'application/json': {'schema': {'$ref': '#/components/schemas/Pet'}}, 'application/xml': {'schema': {'$ref': '#/components/schemas/Pet'}}}}, '400': {'description': 'Invalid ID supplied'}, '404': {'description': 'Pet not found'}}, 'security': [{'api_key': []}, {'petstore_auth': ['write:pets', 'read:pets']}]}, 'post': {'tags': ['pet'], 'summary': 'Updates a pet in the store with form data', 'description': '', 'operationId': 'updatePetWithForm', 'parameters': [{'name': 'petId', 'in': 'path', 'description': 'ID of pet that needs to be updated', 'required': True, 'schema': {'type': 'integer', 'format': 'int64'}}, {'name': 'name', 'in': 'query', 'description': 'Name of pet that needs to be updated', 'schema': {'type': 'string'}}, {'name': 'status', 'in': 'query', 'description': 'Status of pet that needs to be updated', 'schema': {'type': 'string'}}], 'responses': {'400': {'description': 'Invalid input'}}, 'security': [{'petstore_auth': ['write:pets', 'read:pets']}]}, 'delete': {'tags': ['pet'], 'summary': 'Deletes a pet', 'description': 'delete a pet', 'operationId': 'deletePet', 'parameters': [{'name': 'api_key', 'in': 'header', 'description': '', 'required': False, 'schema': {'type': 'string'}}, {'name': 'petId', 'in': 'path', 'description': 'Pet id to delete', 'required': True, 'schema': {'type': 'integer', 'format': 'int64'}}], 'responses': {'400': {'description': 'Invalid pet value'}}, 'security': [{'petstore_auth': ['write:pets', 'read:pets']}]}}, '/pet/{petId}/uploadImage': {'post': {'tags': ['pet'], 'summary': 'uploads an image', 'description': '', 'operationId': 'uploadFile', 'parameters': [{'name': 'petId', 'in': 'path', 'description': 'ID of pet to update', 'required': True, 'schema': {'type': 'integer', 'format': 'int64'}}, {'name': 'additionalMetadata', 'in': 'query', 'description': 'Additional Metadata', 'required': False, 'schema': {'type': 'string'}}], 'requestBody': {'content': {'application/octet-stream': {'schema': {'type': 'string', 'format': 'binary'}}}}, 'responses': {'200': {'description': 'successful operation', 'content': {'application/json': {'schema': {'$ref': '#/components/schemas/ApiResponse'}}}}}, 'security': [{'petstore_auth': ['write:pets', 'read:pets']}]}}, '/store/inventory': {'get': {'tags': ['store'], 'summary': 'Returns pet inventories by status', 'description': 'Returns a map of status codes to quantities', 'operationId': 'getInventory', 'responses': {'200': {'description': 'successful operation', 'content': {'application/json': {'schema': {'type': 'object', 'additionalProperties': {'type': 'integer', 'format': 'int32'}}}}}}, 'security': [{'api_key': []}]}}, '/store/order': {'post': {'tags': ['store'], 'summary': 'Place an order for a pet', 'description': 'Place a new order in the store', 'operationId': 'placeOrder', 'requestBody': {'content': {'application/json': {'schema': {'$ref': '#/components/schemas/Order'}}, 'application/xml': {'schema': {'$ref': '#/components/schemas/Order'}}, 'application/x-www-form-urlencoded': {'schema': {'$ref': '#/components/schemas/Order'}}}}, 'responses': {'200': {'description': 'successful operation', 'content': {'application/json': {'schema': {'$ref': '#/components/schemas/Order'}}}}, '400': {'description': 'Invalid input'}, '422': {'description': 'Validation exception'}}}}, '/store/order/{orderId}': {'get': {'tags': ['store'], 'summary': 'Find purchase order by ID', 'description': 'For valid response try integer IDs with value <= 5 or > 10. Other values will generate exceptions.', 'operationId': 'getOrderById', 'parameters': [{'name': 'orderId', 'in': 'path', 'description': 'ID of order that needs to be fetched', 'required': True, 'schema': {'type': 'integer', 'format': 'int64'}}], 'responses': {'200': {'description': 'successful operation', 'content': {'application/json': {'schema': {'$ref': '#/components/schemas/Order'}}, 'application/xml': {'schema': {'$ref': '#/components/schemas/Order'}}}}, '400': {'description': 'Invalid ID supplied'}, '404': {'description': 'Order not found'}}}, 'delete': {'tags': ['store'], 'summary': 'Delete purchase order by ID', 'description': 'For valid response try integer IDs with value < 1000. Anything above 1000 or nonintegers will generate API errors', 'operationId': 'deleteOrder', 'parameters': [{'name': 'orderId', 'in': 'path', 'description': 'ID of the order that needs to be deleted', 'required': True, 'schema': {'type': 'integer', 'format': 'int64'}}], 'responses': {'400': {'description': 'Invalid ID supplied'}, '404': {'description': 'Order not found'}}}}, '/user': {'post': {'tags': ['user'], 'summary': 'Create user', 'description': 'This can only be done by the logged in user.', 'operationId': 'createUser', 'requestBody': {'description': 'Created user object', 'content': {'application/json': {'schema': {'$ref': '#/components/schemas/User'}}, 'application/xml': {'schema': {'$ref': '#/components/schemas/User'}}, 'application/x-www-form-urlencoded': {'schema': {'$ref': '#/components/schemas/User'}}}}, 'responses': {'default': {'description': 'successful operation', 'content': {'application/json': {'schema': {'$ref': '#/components/schemas/User'}}, 'application/xml': {'schema': {'$ref': '#/components/schemas/User'}}}}}}}, '/user/createWithList': {'post': {'tags': ['user'], 'summary': 'Creates list of users with given input array', 'description': 'Creates list of users with given input array', 'operationId': 'createUsersWithListInput', 'requestBody': {'content': {'application/json': {'schema': {'type': 'array', 'items': {'$ref': '#/components/schemas/User'}}}}}, 'responses': {'200': {'description': 'Successful operation', 'content': {'application/json': {'schema': {'$ref': '#/components/schemas/User'}}, 'application/xml': {'schema': {'$ref': '#/components/schemas/User'}}}}, 'default': {'description': 'successful operation'}}}}, '/user/login': {'get': {'tags': ['user'], 'summary': 'Logs user into the system', 'description': '', 'operationId': 'loginUser', 'parameters': [{'name': 'username', 'in': 'query', 'description': 'The user name for login', 'required': False, 'schema': {'type': 'string'}}, {'name': 'password', 'in': 'query', 'description': 'The password for login in clear text', 'required': False, 'schema': {'type': 'string'}}], 'responses': {'200': {'description': 'successful operation', 'headers': {'X-Rate-Limit': {'description': 'calls per hour allowed by the user', 'schema': {'type': 'integer', 'format': 'int32'}}, 'X-Expires-After': {'description': 'date in UTC when token expires', 'schema': {'type': 'string', 'format': 'date-time'}}}, 'content': {'application/xml': {'schema': {'type': 'string'}}, 'application/json': {'schema': {'type': 'string'}}}}, '400': {'description': 'Invalid username/password supplied'}}}}, '/user/logout': {'get': {'tags': ['user'], 'summary': 'Logs out current logged in user session', 'description': '', 'operationId': 'logoutUser', 'parameters': [], 'responses': {'default': {'description': 'successful operation'}}}}, '/user/{username}': {'get': {'tags': ['user'], 'summary': 'Get user by user name', 'description': '', 'operationId': 'getUserByName', 'parameters': [{'name': 'username', 'in': 'path', 'description': 'The name that needs to be fetched. Use user1 for testing. ', 'required': True, 'schema': {'type': 'string'}}], 'responses': {'200': {'description': 'successful operation', 'content': {'application/json': {'schema': {'$ref': '#/components/schemas/User'}}, 'application/xml': {'schema': {'$ref': '#/components/schemas/User'}}}}, '400': {'description': 'Invalid username supplied'}, '404': {'description': 'User not found'}}}, 'put': {'tags': ['user'], 'summary': 'Update user', 'description': 'This can only be done by the logged in user.', 'operationId': 'updateUser', 'parameters': [{'name': 'username', 'in': 'path', 'description': 'name that need to be deleted', 'required': True, 'schema': {'type': 'string'}}], 'requestBody': {'description': 'Update an existent user in the store', 'content': {'application/json': {'schema': {'$ref': '#/components/schemas/User'}}, 'application/xml': {'schema': {'$ref': '#/components/schemas/User'}}, 'application/x-www-form-urlencoded': {'schema': {'$ref': '#/components/schemas/User'}}}}, 'responses': {'default': {'description': 'successful operation'}}}, 'delete': {'tags': ['user'], 'summary': 'Delete user', 'description': 'This can only be done by the logged in user.', 'operationId': 'deleteUser', 'parameters': [{'name': 'username', 'in': 'path', 'description': 'The name that needs to be deleted', 'required': True, 'schema': {'type': 'string'}}], 'responses': {'400': {'description': 'Invalid username supplied'}, '404': {'description': 'User not found'}}}}}, 'components': {'schemas': {'Order': {'type': 'object', 'properties': {'id': {'type': 'integer', 'format': 'int64', 'example': 10}, 'petId': {'type': 'integer', 'format': 'int64', 'example': 198772}, 'quantity': {'type': 'integer', 'format': 'int32', 'example': 7}, 'shipDate': {'type': 'string', 'format': 'date-time'}, 'status': {'type': 'string', 'description': 'Order Status', 'example': 'approved', 'enum': ['placed', 'approved', 'delivered']}, 'complete': {'type': 'boolean'}}, 'xml': {'name': 'order'}}, 'Customer': {'type': 'object', 'properties': {'id': {'type': 'integer', 'format': 'int64', 'example': 100000}, 'username': {'type': 'string', 'example': 'fehguy'}, 'address': {'type': 'array', 'xml': {'name': 'addresses', 'wrapped': True}, 'items': {'$ref': '#/components/schemas/Address'}}}, 'xml': {'name': 'customer'}}, 'Address': {'type': 'object', 'properties': {'street': {'type': 'string', 'example': '437 Lytton'}, 'city': {'type': 'string', 'example': 'Palo Alto'}, 'state': {'type': 'string', 'example': 'CA'}, 'zip': {'type': 'string', 'example': '94301'}}, 'xml': {'name': 'address'}}, 'Category': {'type': 'object', 'properties': {'id': {'type': 'integer', 'format': 'int64', 'example': 1}, 'name': {'type': 'string', 'example': 'Dogs'}}, 'xml': {'name': 'category'}}, 'User': {'type': 'object', 'properties': {'id': {'type': 'integer', 'format': 'int64', 'example': 10}, 'username': {'type': 'string', 'example': 'theUser'}, 'firstName': {'type': 'string', 'example': 'John'}, 'lastName': {'type': 'string', 'example': 'James'}, 'email': {'type': 'string', 'example': 'john@email.com'}, 'password': {'type': 'string', 'example': '12345'}, 'phone': {'type': 'string', 'example': '12345'}, 'userStatus': {'type': 'integer', 'description': 'User Status', 'format': 'int32', 'example': 1}}, 'xml': {'name': 'user'}}, 'Tag': {'type': 'object', 'properties': {'id': {'type': 'integer', 'format': 'int64'}, 'name': {'type': 'string'}}, 'xml': {'name': 'tag'}}, 'Pet': {'required': ['name', 'photoUrls'], 'type': 'object', 'properties': {'id': {'type': 'integer', 'format': 'int64', 'example': 10}, 'name': {'type': 'string', 'example': 'doggie'}, 'category': {'$ref': '#/components/schemas/Category'}, 'photoUrls': {'type': 'array', 'xml': {'wrapped': True}, 'items': {'type': 'string', 'xml': {'name': 'photoUrl'}}}, 'tags': {'type': 'array', 'xml': {'wrapped': True}, 'items': {'$ref': '#/components/schemas/Tag'}}, 'status': {'type': 'string', 'description': 'pet status in the store', 'enum': ['available', 'pending', 'sold']}}, 'xml': {'name': 'pet'}}, 'ApiResponse': {'type': 'object', 'properties': {'code': {'type': 'integer', 'format': 'int32'}, 'type': {'type': 'string'}, 'message': {'type': 'string'}}, 'xml': {'name': '##default'}}}, 'requestBodies': {'Pet': {'description': 'Pet object that needs to be added to the store', 'content': {'application/json': {'schema': {'$ref': '#/components/schemas/Pet'}}, 'application/xml': {'schema': {'$ref': '#/components/schemas/Pet'}}}}, 'UserArray': {'description': 'List of user object', 'content': {'application/json': {'schema': {'type': 'array', 'items': {'$ref': '#/components/schemas/User'}}}}}}, 'securitySchemes': {'petstore_auth': {'type': 'oauth2', 'flows': {'implicit': {'authorizationUrl': 'https://petstore3.swagger.io/oauth/authorize', 'scopes': {'write:pets': 'modify pets in your account', 'read:pets': 'read your pets'}}}}, 'api_key': {'type': 'apiKey', 'name': 'api_key', 'in': 'header'}}}}\n"
     ]
    }
   ],
   "source": [
    "with open(\"/Users/c360/Desktop/openapi.json\", \"r\") as f:\n",
    "    raw_json = json.load(f)\n",
    "print(\"Raw JSON:\", raw_json)\n"
   ]
  }
 ],
 "metadata": {
  "kernelspec": {
   "display_name": ".venv",
   "language": "python",
   "name": "python3"
  },
  "language_info": {
   "codemirror_mode": {
    "name": "ipython",
    "version": 3
   },
   "file_extension": ".py",
   "mimetype": "text/x-python",
   "name": "python",
   "nbconvert_exporter": "python",
   "pygments_lexer": "ipython3",
   "version": "3.10.16"
  }
 },
 "nbformat": 4,
 "nbformat_minor": 2
}
